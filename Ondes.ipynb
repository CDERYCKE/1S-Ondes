{
 "cells": [
  {
   "attachments": {},
   "cell_type": "markdown",
   "metadata": {},
   "source": [
    "# CH16 - Python - Onde sinusoidale"
   ]
  },
  {
   "attachments": {},
   "cell_type": "markdown",
   "metadata": {},
   "source": [
    "Ce notebook permet de travailler sur les représentations graphiques et mathématiques d'une onde sinusoidale."
   ]
  },
  {
   "attachments": {},
   "cell_type": "markdown",
   "metadata": {},
   "source": [
    "<div class=\"alert alert-info\" role=\"alert\">\n",
    "  <strong>Travail à faire sur le notebook : </strong> <br>\n",
    "    Pour les cellules suivantes, appuyez sur <strong>shift  + entrée</strong> pour lancer le code Python contenu dans chaque cellule\n",
    "</div>"
   ]
  },
  {
   "cell_type": "code",
   "execution_count": null,
   "metadata": {},
   "outputs": [],
   "source": [
    "from matplotlib import pyplot as plt\n",
    "from math import sin, pi, cos"
   ]
  },
  {
   "attachments": {},
   "cell_type": "markdown",
   "metadata": {},
   "source": [
    "## 1 - Tracé d'une fonction sinusoidale "
   ]
  },
  {
   "attachments": {},
   "cell_type": "markdown",
   "metadata": {},
   "source": [
    "Faire fonctionner le code ci-dessous.\n",
    "Le modifier ensuite pour qu'il réponde aux contraintes :\n",
    "amplitude = 1.5  \n",
    "période = 0.5  \n",
    "déphasage = $$ \\pi/2 $$"
   ]
  },
  {
   "cell_type": "code",
   "execution_count": null,
   "metadata": {},
   "outputs": [],
   "source": [
    "# nombre d'échantillons\n",
    "NbEchantillons=100\n",
    "\n",
    "# choix de la valeur de la période\n",
    "T=1\n",
    "\n",
    "# choix de la valeur de l'amplitude\n",
    "A=1.1\n",
    "\n",
    "# choix du déphasage\n",
    "Phi=0\n",
    "\n",
    "# on définit les instants de calcul de la courbe\n",
    "temps=[ i*2*T/NbEchantillons for i in range(NbEchantillons) ]\n",
    "\n",
    "# courbe\n",
    "élongation=[ A*cos(2*pi*t/T+Phi) for t in temps]\n",
    "\n",
    "# on définit les axes (x,y) et leurs bornes\n",
    "plt.close()\n",
    "ax = plt.axes(xlim=(0, 2*T), ylim=(-2, 2))\n",
    "# on rajoute la courbe sur le graphique\n",
    "plt.title(\"s(t)\", color='blue',fontweight = 'bold')\n",
    "plt.xlabel(\"temps\")\n",
    "plt.ylabel(\"élongation s\")\n",
    "plt.grid(True)\n",
    "plt.plot(temps, élongation)\n",
    "\n",
    "# on demande l'affichage\n",
    "plt.show()"
   ]
  },
  {
   "attachments": {},
   "cell_type": "markdown",
   "metadata": {},
   "source": [
    "## 2 - Ondes sinusoïdales progressives"
   ]
  },
  {
   "cell_type": "code",
   "execution_count": null,
   "metadata": {},
   "outputs": [],
   "source": [
    "# échelle max selon l'axe de propagation\n",
    "Xmax=10.0\n",
    "\n",
    "# échelle max selon le temps\n",
    "Tmax=10.0\n",
    "\n",
    "# on définit un nom pour la figure et les axes (x,y), auxquels on rajoutera les courbes\n",
    "fig = plt.figure(figsize=(10,40))\n",
    "ax = plt.axes(xlim=(0, Xmax), ylim=(-2, 2))\n",
    "\n",
    "# nombre d'échantillons \n",
    "NbEchantillons=100\n",
    "\n",
    "# on définit les positions de calcul de la courbe\n",
    "positions_x=[ i*Xmax/NbEchantillons for i in range(NbEchantillons)]\n",
    "\n",
    "# on définit les instants de calcul de la courbe\n",
    "temps=[ i*Tmax/NbEchantillons for i in range(NbEchantillons)]\n",
    "\n",
    "\n",
    "# choix de la valeur de la période et de la phase à l'origine\n",
    "\n",
    "T=2.0\n",
    "Phi=0\n",
    "\n",
    "# choix de la valeur de la célérité des ondes\n",
    "\n",
    "c=1.0\n",
    "\n",
    "# choix de la position du point B\n",
    "d=1.1\n",
    "\n",
    "# courbes: une liste qui contient des listes de valeurs\n",
    "\n",
    "source = [ A*cos(2*pi*t/T+Phi) for t in temps]\n",
    "point_B =[ A*cos(2*pi*(t-d/c)/T+Phi) for t in temps]\n",
    "\n",
    "# on définit les axes (x,y) et leurs bornes\n",
    "plt.close()\n",
    "ax = plt.axes(xlim=(0, 2*T), ylim=(-2, 2))\n",
    "# on rajoute la courbe sur le graphique\n",
    "plt.title(\"s(t)\", color='blue',fontweight = 'bold')\n",
    "plt.xlabel(\"temps\")\n",
    "plt.ylabel(\"élongation s\")\n",
    "plt.grid(True)\n",
    "plt.plot(temps, source, color='blue')\n",
    "plt.plot(temps, point_B, color='red')\n",
    "# on demande l'affichage\n",
    "plt.show()"
   ]
  },
  {
   "attachments": {},
   "cell_type": "markdown",
   "metadata": {},
   "source": [
    "## 3 - Simulation de la propagation d'une onde sinusoidale"
   ]
  },
  {
   "attachments": {},
   "cell_type": "markdown",
   "metadata": {},
   "source": [
    "affichage de 10 images de l'onde au cours de sa propagation"
   ]
  },
  {
   "cell_type": "code",
   "execution_count": null,
   "metadata": {},
   "outputs": [],
   "source": [
    "# échelle max selon l'axe de propagation\n",
    "Xmax=10.0\n",
    "\n",
    "# échelle max selon le temps\n",
    "Tmax=10.0\n",
    "\n",
    "\n",
    "\n",
    "# nombre d'échantillons \n",
    "NbEchantillons=100\n",
    "\n",
    "# on définit les positions de calcul de la courbe\n",
    "positions_x=[ i*Xmax/NbEchantillons for i in range(NbEchantillons)]\n",
    "\n",
    "# on définit les instants de calcul de la courbe\n",
    "temps=[ i*Tmax/NbEchantillons for i in range(NbEchantillons)]\n",
    "\n",
    "\n",
    "# choix de la valeur de la période et de la phase à l'origine\n",
    "\n",
    "T=2.0\n",
    "Phi=0\n",
    "\n",
    "# choix de la valeur de la célérité des ondes\n",
    "\n",
    "c=3.0\n",
    "\n",
    "# courbes: une liste qui contient des listes de valeurs\n",
    "mescourbes=[[cos(2*pi/T*(t-x/c)) for x in positions_x] for t in temps]\n",
    "\n",
    "# tracé des 10 figures\n",
    "plt.close()\n",
    "# on définit un nom pour la figure et les axes (x,y), auxquels on rajoutera les courbes\n",
    "fig = plt.figure(figsize=(10,40))\n",
    "ax = plt.axes(xlim=(0, Xmax), ylim=(-2, 2))\n",
    "for i in range (0,10):\n",
    "    plt.subplot(10,1,i+1) # 10 lignes, 1 colonne, graphique i\n",
    "    plt.xlabel(\"position dans l'espace\")\n",
    "    plt.ylabel(\"élongation y au temps \"+str(float(i*NbEchantillons/200)) )\n",
    "    plt.grid()\n",
    "    plt.plot(temps, mescourbes[i*5])\n",
    "\n",
    "# on demande l'affichage\n",
    "plt.show()"
   ]
  },
  {
   "cell_type": "code",
   "execution_count": null,
   "metadata": {},
   "outputs": [],
   "source": []
  },
  {
   "cell_type": "code",
   "execution_count": null,
   "metadata": {},
   "outputs": [],
   "source": []
  },
  {
   "attachments": {},
   "cell_type": "markdown",
   "metadata": {},
   "source": [
    "## 4 - Animation "
   ]
  },
  {
   "cell_type": "code",
   "execution_count": null,
   "metadata": {},
   "outputs": [],
   "source": [
    "from matplotlib import animation\n",
    "# échelle max selon l'axe de propagation\n",
    "Xmax=10.0\n",
    "\n",
    "# échelle max selon le temps\n",
    "Tmax=10.0\n",
    "\n",
    "# on définit un nom pour la figure et les axes (x,y), auxquels on rajoutera les courbes\n",
    "fig = plt.figure()\n",
    "ax = plt.axes(xlim=(0, Xmax), ylim=(-2, 2))\n",
    "\n",
    "# nombre d'échantillons\n",
    "NbEchantillons=100\n",
    "\n",
    "# on définit les positions de calcul de la courbe\n",
    "positions_x=[ i*Xmax/NbEchantillons for i in range(NbEchantillons)]\n",
    "\n",
    "# on définit les instants de calcul de la courbe\n",
    "temps=[ i*Tmax/NbEchantillons for i in range(NbEchantillons)]\n",
    "\n",
    "\n",
    "# choix de la valeur de la période\n",
    "\n",
    "T=0.5\n",
    "\n",
    "# choix de la valeur de la célérité des ondes\n",
    "\n",
    "c=3.0\n",
    "\n",
    "# courbes: une liste qui contient des listes de valeurs\n",
    "mescourbes=[[sin(2*pi/T*(t-x/c)) for x in positions_x] for t in temps]\n",
    "\n",
    "# la virgule sert à unpacker courbe \n",
    "courbe, =ax.plot(positions_x,mescourbes[0])\n",
    "\n",
    "def incrementemps(i):\n",
    "\tcourbe.set_ydata(mescourbes[i])\n",
    "\treturn courbe,\n",
    "\n",
    "# des noms pour les axes\n",
    "ax.set_xlabel('position dans la direction de propagation')\n",
    "ax.set_ylabel('élongation')\n",
    "ax.set_title('Une onde')\n",
    "\n",
    "# on crée l'animation\n",
    "wave_anim = animation.FuncAnimation(fig, incrementemps, 100, interval=50, blit=False)\n",
    "\n",
    "plt.show()"
   ]
  },
  {
   "cell_type": "code",
   "execution_count": null,
   "metadata": {},
   "outputs": [],
   "source": [
    "from IPython.display import HTML\n",
    "HTML(wave_anim.to_jshtml())"
   ]
  },
  {
   "cell_type": "code",
   "execution_count": null,
   "metadata": {},
   "outputs": [],
   "source": []
  },
  {
   "attachments": {},
   "cell_type": "markdown",
   "metadata": {},
   "source": [
    "<div class=\"alert alert-success\" role=\"alert\">\n",
    " <strong> Le travail est terminé !</strong> <br>\n",
    "</div>"
   ]
  }
 ],
 "metadata": {
  "kernelspec": {
   "display_name": "Python 3",
   "language": "python",
   "name": "python3"
  },
  "language_info": {
   "codemirror_mode": {
    "name": "ipython",
    "version": 3
   },
   "file_extension": ".py",
   "mimetype": "text/x-python",
   "name": "python",
   "nbconvert_exporter": "python",
   "pygments_lexer": "ipython3",
   "version": "3.7.9"
  }
 },
 "nbformat": 4,
 "nbformat_minor": 4
}
